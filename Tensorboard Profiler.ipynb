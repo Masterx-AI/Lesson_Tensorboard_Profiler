{
 "cells": [
  {
   "cell_type": "markdown",
   "id": "d2ee9292",
   "metadata": {
    "papermill": {
     "duration": 0.019668,
     "end_time": "2022-01-09T19:10:42.632460",
     "exception": false,
     "start_time": "2022-01-09T19:10:42.612792",
     "status": "completed"
    },
    "tags": []
   },
   "source": [
    "---"
   ]
  },
  {
   "cell_type": "markdown",
   "id": "3d712761",
   "metadata": {
    "papermill": {
     "duration": 0.018101,
     "end_time": "2022-01-09T19:10:42.669594",
     "exception": false,
     "start_time": "2022-01-09T19:10:42.651493",
     "status": "completed"
    },
    "tags": []
   },
   "source": [
    "# <center>★ AI / ML Project - Tensorboard Profiling★\n",
    "#### <center> ***Domain: Applied DL Research***"
   ]
  },
  {
   "cell_type": "markdown",
   "id": "5c1a0d68",
   "metadata": {
    "papermill": {
     "duration": 0.017991,
     "end_time": "2022-01-09T19:10:42.705886",
     "exception": false,
     "start_time": "2022-01-09T19:10:42.687895",
     "status": "completed"
    },
    "tags": []
   },
   "source": [
    "<center><img src=\"0.png\" style=\"width: 800px;\"/>"
   ]
  },
  {
   "cell_type": "markdown",
   "id": "e605a792",
   "metadata": {
    "papermill": {
     "duration": 0.018075,
     "end_time": "2022-01-09T19:10:42.742333",
     "exception": false,
     "start_time": "2022-01-09T19:10:42.724258",
     "status": "completed"
    },
    "tags": []
   },
   "source": [
    "---"
   ]
  },
  {
   "cell_type": "markdown",
   "id": "27d941ec",
   "metadata": {
    "papermill": {
     "duration": 0.017966,
     "end_time": "2022-01-09T19:10:42.779631",
     "exception": false,
     "start_time": "2022-01-09T19:10:42.761665",
     "status": "completed"
    },
    "tags": []
   },
   "source": [
    "### Description:\n",
    "\n",
    "There is a common business saying that you can’t improve what you don’t measure. This is true in machine learning as well. There are various tools for measuring the performance of a deep learning model: Neptune AI, MLflow, Weights and Biases, Guild AI, just to mention a few. In this piece, we’ll focus on TensorFlow’s open-source visualization toolkit TensorBoard. \n",
    "\n",
    "The tool enables you to track various metrics such as accuracy and log loss on training or validation set. As we shall see in this piece, TensorBoard provides several tools that we can use in machine learning experimentation. The tool is also fairly easy to use. \n",
    "\n",
    "Here are some things we can explore with Tensorboard:\n",
    "* Visualizing images in TensorBoard\n",
    "* Checking model weights and biases on TensorBoard\n",
    "* Visualizing the model’s architecture\n",
    "* Sending a visual of the confusion matrix to TensorBoard\n",
    "* Profiling your application so as to see its performance, and\n",
    "* Using TensorBoard with Keras, PyTorch, and XGBoost\n",
    "\n",
    "\n",
    "### Acknowledgement: \n",
    "Tensorflow.org, Neptune.ai, Coursera, Google.\n",
    "\n",
    "### Objective:\n",
    "- Optimize TensorFlow performance using the Profiler"
   ]
  },
  {
   "cell_type": "markdown",
   "id": "b4f9d1c6",
   "metadata": {
    "papermill": {
     "duration": 0.018176,
     "end_time": "2022-01-09T19:10:42.816204",
     "exception": false,
     "start_time": "2022-01-09T19:10:42.798028",
     "status": "completed"
    },
    "tags": []
   },
   "source": [
    "---"
   ]
  },
  {
   "cell_type": "markdown",
   "id": "35e10f3b",
   "metadata": {
    "papermill": {
     "duration": 0.019,
     "end_time": "2022-01-09T19:10:42.854235",
     "exception": false,
     "start_time": "2022-01-09T19:10:42.835235",
     "status": "completed"
    },
    "tags": []
   },
   "source": [
    "# <center> Plan of Action:"
   ]
  },
  {
   "cell_type": "markdown",
   "id": "7b4a00b6",
   "metadata": {
    "papermill": {
     "duration": 0.018407,
     "end_time": "2022-01-09T19:10:42.891434",
     "exception": false,
     "start_time": "2022-01-09T19:10:42.873027",
     "status": "completed"
    },
    "tags": []
   },
   "source": [
    "**We aim to solve the problem statement by creating a plan of action, Here are some of the necessary steps:**\n",
    "1. Data Exploration\n",
    "2. Data Pre-processing\n",
    "3. Model Training\n",
    "4. Model Optimization"
   ]
  },
  {
   "cell_type": "markdown",
   "id": "a1a7d2ff",
   "metadata": {
    "papermill": {
     "duration": 0.018388,
     "end_time": "2022-01-09T19:10:42.928214",
     "exception": false,
     "start_time": "2022-01-09T19:10:42.909826",
     "status": "completed"
    },
    "tags": []
   },
   "source": [
    "---"
   ]
  },
  {
   "cell_type": "markdown",
   "id": "b166e0b1",
   "metadata": {
    "papermill": {
     "duration": 0.018692,
     "end_time": "2022-01-09T19:10:42.965383",
     "exception": false,
     "start_time": "2022-01-09T19:10:42.946691",
     "status": "completed"
    },
    "tags": []
   },
   "source": [
    "# <center>1. Data Exploration"
   ]
  },
  {
   "cell_type": "code",
   "execution_count": 1,
   "id": "2006f3d3",
   "metadata": {},
   "outputs": [
    {
     "name": "stdout",
     "output_type": "stream",
     "text": [
      "Requirement already satisfied: tensorboard_plugin_profile in c:\\programdata\\anaconda3\\lib\\site-packages (2.8.0)\n",
      "Requirement already satisfied: gviz-api>=1.9.0 in c:\\programdata\\anaconda3\\lib\\site-packages (from tensorboard_plugin_profile) (1.10.0)\n",
      "Requirement already satisfied: werkzeug>=0.11.15 in c:\\users\\yasser\\appdata\\roaming\\python\\python39\\site-packages (from tensorboard_plugin_profile) (2.0.2)\n",
      "Requirement already satisfied: six>=1.10.0 in c:\\users\\yasser\\appdata\\roaming\\python\\python39\\site-packages (from tensorboard_plugin_profile) (1.16.0)\n",
      "Requirement already satisfied: setuptools>=41.0.0 in c:\\programdata\\anaconda3\\lib\\site-packages (from tensorboard_plugin_profile) (58.0.4)\n",
      "Requirement already satisfied: protobuf>=3.12.0 in c:\\users\\yasser\\appdata\\roaming\\python\\python39\\site-packages (from tensorboard_plugin_profile) (3.19.1)\n"
     ]
    }
   ],
   "source": [
    "!pip install -U tensorboard_plugin_profile"
   ]
  },
  {
   "cell_type": "code",
   "execution_count": 2,
   "id": "c2ff5519",
   "metadata": {
    "execution": {
     "iopub.execute_input": "2022-01-09T19:10:43.006523Z",
     "iopub.status.busy": "2022-01-09T19:10:43.005339Z",
     "iopub.status.idle": "2022-01-09T19:10:49.748370Z",
     "shell.execute_reply": "2022-01-09T19:10:49.747612Z",
     "shell.execute_reply.started": "2022-01-09T19:02:40.806123Z"
    },
    "papermill": {
     "duration": 6.764942,
     "end_time": "2022-01-09T19:10:49.748676",
     "exception": false,
     "start_time": "2022-01-09T19:10:42.983734",
     "status": "completed"
    },
    "tags": []
   },
   "outputs": [],
   "source": [
    "#Importing the basic librarires\n",
    "\n",
    "import tensorflow as tf\n",
    "from datetime import datetime\n",
    "import tensorflow_datasets as tfds"
   ]
  },
  {
   "cell_type": "code",
   "execution_count": 3,
   "id": "1875d037",
   "metadata": {},
   "outputs": [
    {
     "name": "stdout",
     "output_type": "stream",
     "text": [
      "Found GPU at: /device:GPU:0\n"
     ]
    }
   ],
   "source": [
    "# Check for GPU accelerator\n",
    "\n",
    "device_name = tf.test.gpu_device_name()\n",
    "if not device_name:\n",
    "    raise SystemError('GPU device not found')\n",
    "print('Found GPU at: {}'.format(device_name))"
   ]
  },
  {
   "cell_type": "code",
   "execution_count": 4,
   "id": "e542ba6e",
   "metadata": {
    "execution": {
     "iopub.execute_input": "2022-01-09T19:10:49.792038Z",
     "iopub.status.busy": "2022-01-09T19:10:49.791389Z",
     "iopub.status.idle": "2022-01-09T19:10:52.793062Z",
     "shell.execute_reply": "2022-01-09T19:10:52.793645Z",
     "shell.execute_reply.started": "2022-01-09T19:02:40.813960Z"
    },
    "papermill": {
     "duration": 3.025945,
     "end_time": "2022-01-09T19:10:52.793828",
     "exception": false,
     "start_time": "2022-01-09T19:10:49.767883",
     "status": "completed"
    },
    "tags": []
   },
   "outputs": [],
   "source": [
    "#Loading the dataset\n",
    "\n",
    "(ds_train, ds_test), ds_info = tfds.load('mnist',\n",
    "                                         split=['train', 'test'],\n",
    "                                         shuffle_files=True,\n",
    "                                         as_supervised=True,\n",
    "                                         with_info=True,)"
   ]
  },
  {
   "cell_type": "markdown",
   "id": "d88c7c62",
   "metadata": {
    "papermill": {
     "duration": 0.023075,
     "end_time": "2022-01-09T19:11:06.372401",
     "exception": false,
     "start_time": "2022-01-09T19:11:06.349326",
     "status": "completed"
    },
    "tags": []
   },
   "source": [
    "---"
   ]
  },
  {
   "cell_type": "markdown",
   "id": "bf11d777",
   "metadata": {
    "papermill": {
     "duration": 0.023099,
     "end_time": "2022-01-09T19:11:06.420060",
     "exception": false,
     "start_time": "2022-01-09T19:11:06.396961",
     "status": "completed"
    },
    "tags": []
   },
   "source": [
    "# <center>2. Data Preprocessing"
   ]
  },
  {
   "cell_type": "code",
   "execution_count": 5,
   "id": "70594820",
   "metadata": {
    "execution": {
     "iopub.execute_input": "2022-01-09T19:11:06.470487Z",
     "iopub.status.busy": "2022-01-09T19:11:06.469501Z",
     "iopub.status.idle": "2022-01-09T19:11:06.473900Z",
     "shell.execute_reply": "2022-01-09T19:11:06.474393Z",
     "shell.execute_reply.started": "2022-01-09T19:02:58.116328Z"
    },
    "papermill": {
     "duration": 0.03131,
     "end_time": "2022-01-09T19:11:06.474585",
     "exception": false,
     "start_time": "2022-01-09T19:11:06.443275",
     "status": "completed"
    },
    "tags": []
   },
   "outputs": [],
   "source": [
    "# Defining a custom function to normalise the images\n",
    "\n",
    "def normalize_img(image, label):\n",
    "    \"\"\"Normalizes images: `uint8` -> `float32`.\"\"\"\n",
    "    return tf.cast(image, tf.float32) / 255., label"
   ]
  },
  {
   "cell_type": "code",
   "execution_count": 6,
   "id": "97e3b5ff",
   "metadata": {
    "execution": {
     "iopub.execute_input": "2022-01-09T19:11:06.525955Z",
     "iopub.status.busy": "2022-01-09T19:11:06.525304Z",
     "iopub.status.idle": "2022-01-09T19:11:06.576363Z",
     "shell.execute_reply": "2022-01-09T19:11:06.576877Z",
     "shell.execute_reply.started": "2022-01-09T19:02:58.123545Z"
    },
    "papermill": {
     "duration": 0.079196,
     "end_time": "2022-01-09T19:11:06.577065",
     "exception": false,
     "start_time": "2022-01-09T19:11:06.497869",
     "status": "completed"
    },
    "tags": []
   },
   "outputs": [],
   "source": [
    "#Preprocessing training dataset\n",
    "\n",
    "ds_train = ds_train.map(normalize_img)\n",
    "ds_train = ds_train.batch(128)"
   ]
  },
  {
   "cell_type": "code",
   "execution_count": 7,
   "id": "91b00b76",
   "metadata": {
    "execution": {
     "iopub.execute_input": "2022-01-09T19:11:06.626824Z",
     "iopub.status.busy": "2022-01-09T19:11:06.626178Z",
     "iopub.status.idle": "2022-01-09T19:11:06.638712Z",
     "shell.execute_reply": "2022-01-09T19:11:06.639219Z",
     "shell.execute_reply.started": "2022-01-09T19:02:58.175157Z"
    },
    "papermill": {
     "duration": 0.039052,
     "end_time": "2022-01-09T19:11:06.639402",
     "exception": false,
     "start_time": "2022-01-09T19:11:06.600350",
     "status": "completed"
    },
    "tags": []
   },
   "outputs": [],
   "source": [
    "# Preprocessing testing dataset\n",
    "\n",
    "ds_test = ds_test.map(normalize_img)\n",
    "ds_test = ds_test.batch(128)"
   ]
  },
  {
   "cell_type": "markdown",
   "id": "1f27fdbe",
   "metadata": {
    "papermill": {
     "duration": 0.023507,
     "end_time": "2022-01-09T19:11:06.686259",
     "exception": false,
     "start_time": "2022-01-09T19:11:06.662752",
     "status": "completed"
    },
    "tags": []
   },
   "source": [
    "---"
   ]
  },
  {
   "cell_type": "markdown",
   "id": "f749c63c",
   "metadata": {
    "papermill": {
     "duration": 0.022876,
     "end_time": "2022-01-09T19:11:06.732339",
     "exception": false,
     "start_time": "2022-01-09T19:11:06.709463",
     "status": "completed"
    },
    "tags": []
   },
   "source": [
    "# <center>3. Model Training"
   ]
  },
  {
   "cell_type": "code",
   "execution_count": 8,
   "id": "c48503c3",
   "metadata": {
    "execution": {
     "iopub.execute_input": "2022-01-09T19:11:06.784644Z",
     "iopub.status.busy": "2022-01-09T19:11:06.781575Z",
     "iopub.status.idle": "2022-01-09T19:11:08.132116Z",
     "shell.execute_reply": "2022-01-09T19:11:08.132666Z",
     "shell.execute_reply.started": "2022-01-09T19:02:58.189311Z"
    },
    "papermill": {
     "duration": 1.377197,
     "end_time": "2022-01-09T19:11:08.132853",
     "exception": false,
     "start_time": "2022-01-09T19:11:06.755656",
     "status": "completed"
    },
    "tags": []
   },
   "outputs": [],
   "source": [
    "# Building Deep Learning Model Architecture\n",
    "\n",
    "model = tf.keras.models.Sequential([\n",
    "  tf.keras.layers.Flatten(input_shape=(28, 28)),\n",
    "  tf.keras.layers.Dense(128, activation='relu'),\n",
    "  tf.keras.layers.Dense(10)\n",
    "])"
   ]
  },
  {
   "cell_type": "code",
   "execution_count": 9,
   "id": "4d956b29",
   "metadata": {
    "execution": {
     "iopub.execute_input": "2022-01-09T19:11:08.188885Z",
     "iopub.status.busy": "2022-01-09T19:11:08.188157Z",
     "iopub.status.idle": "2022-01-09T19:11:08.200811Z",
     "shell.execute_reply": "2022-01-09T19:11:08.200154Z",
     "shell.execute_reply.started": "2022-01-09T19:02:59.430831Z"
    },
    "papermill": {
     "duration": 0.043996,
     "end_time": "2022-01-09T19:11:08.200958",
     "exception": false,
     "start_time": "2022-01-09T19:11:08.156962",
     "status": "completed"
    },
    "tags": []
   },
   "outputs": [],
   "source": [
    "# Compiling the Model\n",
    "\n",
    "model.compile(\n",
    "    optimizer=tf.keras.optimizers.Adam(0.001),\n",
    "    loss=tf.keras.losses.SparseCategoricalCrossentropy(from_logits=True),\n",
    "    metrics=[tf.keras.metrics.SparseCategoricalAccuracy()],\n",
    ")"
   ]
  },
  {
   "cell_type": "code",
   "execution_count": 10,
   "id": "c84cd11a",
   "metadata": {
    "execution": {
     "iopub.execute_input": "2022-01-09T19:11:08.254614Z",
     "iopub.status.busy": "2022-01-09T19:11:08.253533Z",
     "iopub.status.idle": "2022-01-09T19:12:00.464110Z",
     "shell.execute_reply": "2022-01-09T19:12:00.464577Z",
     "shell.execute_reply.started": "2022-01-09T19:02:59.449224Z"
    },
    "papermill": {
     "duration": 52.239714,
     "end_time": "2022-01-09T19:12:00.464764",
     "exception": false,
     "start_time": "2022-01-09T19:11:08.225050",
     "status": "completed"
    },
    "scrolled": true,
    "tags": []
   },
   "outputs": [
    {
     "name": "stdout",
     "output_type": "stream",
     "text": [
      "Epoch 1/2\n",
      "469/469 [==============================] - 4s 7ms/step - loss: 0.3634 - sparse_categorical_accuracy: 0.8984 - val_loss: 0.1881 - val_sparse_categorical_accuracy: 0.9466\n",
      "Epoch 2/2\n",
      "469/469 [==============================] - 4s 8ms/step - loss: 0.1629 - sparse_categorical_accuracy: 0.9533 - val_loss: 0.1318 - val_sparse_categorical_accuracy: 0.9611\n"
     ]
    }
   ],
   "source": [
    "# Create a TensorBoard callback\n",
    "\n",
    "logs = \"logs/\" + datetime.now().strftime(\"%Y%m%d-%H%M%S\")\n",
    "\n",
    "tboard_callback = tf.keras.callbacks.TensorBoard(log_dir = logs,\n",
    "                                                 histogram_freq = 1,\n",
    "                                                 profile_batch = '500,520')\n",
    "\n",
    "\n",
    "#Training the Model\n",
    "\n",
    "n=2\n",
    "history = model.fit(ds_train,\n",
    "                    epochs=2,\n",
    "                    validation_data=ds_test,\n",
    "                    callbacks = [tboard_callback])"
   ]
  },
  {
   "cell_type": "code",
   "execution_count": 11,
   "id": "ccb9e285",
   "metadata": {},
   "outputs": [],
   "source": [
    "# Load the TensorBoard notebook extension.\n",
    "%load_ext tensorboard"
   ]
  },
  {
   "cell_type": "code",
   "execution_count": 12,
   "id": "9575bc78",
   "metadata": {},
   "outputs": [
    {
     "data": {
      "text/plain": [
       "Reusing TensorBoard on port 6006 (pid 2752), started 5:18:01 ago. (Use '!kill 2752' to kill it.)"
      ]
     },
     "metadata": {},
     "output_type": "display_data"
    },
    {
     "data": {
      "text/html": [
       "\n",
       "      <iframe id=\"tensorboard-frame-2e0157c7923cb6bd\" width=\"100%\" height=\"800\" frameborder=\"0\">\n",
       "      </iframe>\n",
       "      <script>\n",
       "        (function() {\n",
       "          const frame = document.getElementById(\"tensorboard-frame-2e0157c7923cb6bd\");\n",
       "          const url = new URL(\"/\", window.location);\n",
       "          const port = 6006;\n",
       "          if (port) {\n",
       "            url.port = port;\n",
       "          }\n",
       "          frame.src = url;\n",
       "        })();\n",
       "      </script>\n",
       "    "
      ],
      "text/plain": [
       "<IPython.core.display.HTML object>"
      ]
     },
     "metadata": {},
     "output_type": "display_data"
    }
   ],
   "source": [
    "# Launch TensorBoard and navigate to the Profile tab to view performance profile\n",
    "%tensorboard --logdir=logs"
   ]
  },
  {
   "cell_type": "markdown",
   "id": "cf6e018a",
   "metadata": {},
   "source": [
    "The Profile tab opens the Overview page which shows you a high-level summary of your model performance. Looking at the Step-time Graph on the right, you can see that the model is highly input bound (i.e., it spends a lot of time in the data input piepline). The Overview page also gives you recommendations on potential next steps you can follow to optimize your model performance."
   ]
  },
  {
   "cell_type": "markdown",
   "id": "7bb4d7c6",
   "metadata": {},
   "source": [
    "![](1.png)"
   ]
  },
  {
   "cell_type": "markdown",
   "id": "ffee2daf",
   "metadata": {},
   "source": [
    "Use the Trace Viewer to locate the performance bottlenecks in your input pipeline. The image below is a snapshot of the performance profile."
   ]
  },
  {
   "cell_type": "markdown",
   "id": "4672a50f",
   "metadata": {},
   "source": [
    "![](2.png)"
   ]
  },
  {
   "cell_type": "markdown",
   "id": "d2291729",
   "metadata": {},
   "source": [
    "Looking at the event traces, you can see that the GPU is inactive while the tf_data_iterator_get_next op is running on the CPU. This op is responsible for processing the input data and sending it to the GPU for training. As a general rule of thumb, it is a good idea to always keep the device (GPU/TPU) active."
   ]
  },
  {
   "cell_type": "markdown",
   "id": "0e0ace9a",
   "metadata": {},
   "source": [
    "---"
   ]
  },
  {
   "cell_type": "markdown",
   "id": "04b81d32",
   "metadata": {},
   "source": [
    "# <center> 4. Model Optimization \n",
    "<center> (using Tensorboard Profiler)"
   ]
  },
  {
   "cell_type": "code",
   "execution_count": 13,
   "id": "8ea22150",
   "metadata": {},
   "outputs": [],
   "source": [
    "#Loading the dataset\n",
    "\n",
    "(ds_train, ds_test), ds_info = tfds.load('mnist',\n",
    "                                         split=['train', 'test'],\n",
    "                                         shuffle_files=True,\n",
    "                                         as_supervised=True,\n",
    "                                         with_info=True,)"
   ]
  },
  {
   "cell_type": "markdown",
   "id": "993a2521",
   "metadata": {},
   "source": [
    "Let us use the tf.data API to optimize the input pipeline. \n",
    "In this case, let's cache the training dataset and prefetch the data to ensure that there is always data available for the GPU to process."
   ]
  },
  {
   "cell_type": "code",
   "execution_count": 14,
   "id": "38381988",
   "metadata": {},
   "outputs": [],
   "source": [
    "#Preprocessing training dataset\n",
    "\n",
    "ds_train = ds_train.map(normalize_img, num_parallel_calls=tf.data.AUTOTUNE)\n",
    "ds_train = ds_train.batch(128)\n",
    "ds_train = ds_train.cache()\n",
    "ds_train = ds_train.prefetch(tf.data.AUTOTUNE)"
   ]
  },
  {
   "cell_type": "code",
   "execution_count": 15,
   "id": "33905750",
   "metadata": {},
   "outputs": [],
   "source": [
    "# Preprocessing testing dataset\n",
    "\n",
    "ds_test = ds_test.map(normalize_img, num_parallel_calls=tf.data.AUTOTUNE)\n",
    "ds_test = ds_test.batch(128)\n",
    "ds_test = ds_test.cache()\n",
    "ds_test = ds_test.prefetch(tf.data.AUTOTUNE)"
   ]
  },
  {
   "cell_type": "code",
   "execution_count": 16,
   "id": "eb6f640c",
   "metadata": {},
   "outputs": [
    {
     "name": "stdout",
     "output_type": "stream",
     "text": [
      "Epoch 1/2\n",
      "469/469 [==============================] - 3s 6ms/step - loss: 0.1166 - sparse_categorical_accuracy: 0.9668 - val_loss: 0.1106 - val_sparse_categorical_accuracy: 0.9675\n",
      "Epoch 2/2\n",
      "469/469 [==============================] - 2s 5ms/step - loss: 0.0909 - sparse_categorical_accuracy: 0.9740 - val_loss: 0.0988 - val_sparse_categorical_accuracy: 0.9696\n"
     ]
    }
   ],
   "source": [
    "history = model.fit(ds_train,\n",
    "                    epochs=2,\n",
    "                    validation_data=ds_test,\n",
    "                    callbacks = [tboard_callback])"
   ]
  },
  {
   "cell_type": "code",
   "execution_count": 17,
   "id": "1e03e579",
   "metadata": {},
   "outputs": [
    {
     "data": {
      "text/plain": [
       "Reusing TensorBoard on port 6006 (pid 2752), started 5:18:07 ago. (Use '!kill 2752' to kill it.)"
      ]
     },
     "metadata": {},
     "output_type": "display_data"
    },
    {
     "data": {
      "text/html": [
       "\n",
       "      <iframe id=\"tensorboard-frame-f1bbba7a9e10cfbf\" width=\"100%\" height=\"800\" frameborder=\"0\">\n",
       "      </iframe>\n",
       "      <script>\n",
       "        (function() {\n",
       "          const frame = document.getElementById(\"tensorboard-frame-f1bbba7a9e10cfbf\");\n",
       "          const url = new URL(\"/\", window.location);\n",
       "          const port = 6006;\n",
       "          if (port) {\n",
       "            url.port = port;\n",
       "          }\n",
       "          frame.src = url;\n",
       "        })();\n",
       "      </script>\n",
       "    "
      ],
      "text/plain": [
       "<IPython.core.display.HTML object>"
      ]
     },
     "metadata": {},
     "output_type": "display_data"
    }
   ],
   "source": [
    "%tensorboard --logdir=logs"
   ]
  },
  {
   "cell_type": "markdown",
   "id": "0ad6bd6c",
   "metadata": {},
   "source": [
    "The Trace Viewer shows that the tf_data_iterator_get_next op executes much faster. The GPU therefore gets a steady stream of data to perform training and achieves much better utilization through model training."
   ]
  },
  {
   "cell_type": "markdown",
   "id": "b532c523",
   "metadata": {},
   "source": [
    "The Profile tab opens the Overview page which shows you a high-level summary of your model performance. Looking at the Step-time Graph on the right, you can see that the model is highly input bound (i.e., it spends a lot of time in the data input piepline). The Overview page also gives you recommendations on potential next steps you can follow to optimize your model performance."
   ]
  },
  {
   "cell_type": "markdown",
   "id": "969d3769",
   "metadata": {},
   "source": [
    "![](3.png)"
   ]
  },
  {
   "cell_type": "markdown",
   "id": "bca553eb",
   "metadata": {},
   "source": [
    "From the Overview page, you can see that the Average Step time has reduced as has the Input Step time. The Step-time Graph also indicates that the model is no longer highly input bound. Open the Trace Viewer to examine the trace events with the optimized input pipeline."
   ]
  },
  {
   "cell_type": "markdown",
   "id": "7b98698a",
   "metadata": {},
   "source": [
    "![](4.png)"
   ]
  },
  {
   "cell_type": "markdown",
   "id": "60369b2b",
   "metadata": {},
   "source": [
    "The Trace Viewer shows that the tf_data_iterator_get_next op executes much faster. The GPU therefore gets a steady stream of data to perform training and achieves much better utilization through model training."
   ]
  },
  {
   "cell_type": "code",
   "execution_count": 18,
   "id": "4d860d74",
   "metadata": {
    "execution": {
     "iopub.execute_input": "2022-01-09T19:12:03.057151Z",
     "iopub.status.busy": "2022-01-09T19:12:03.055354Z",
     "iopub.status.idle": "2022-01-09T19:12:03.058909Z",
     "shell.execute_reply": "2022-01-09T19:12:03.059532Z",
     "shell.execute_reply.started": "2022-01-09T19:04:05.948983Z"
    },
    "papermill": {
     "duration": 0.230754,
     "end_time": "2022-01-09T19:12:03.059737",
     "exception": false,
     "start_time": "2022-01-09T19:12:02.828983",
     "status": "completed"
    },
    "tags": []
   },
   "outputs": [],
   "source": [
    "#<<<--------------------------------------THE END---------------------------------------->>>"
   ]
  }
 ],
 "metadata": {
  "kernelspec": {
   "display_name": "Python 3 (ipykernel)",
   "language": "python",
   "name": "python3"
  },
  "language_info": {
   "codemirror_mode": {
    "name": "ipython",
    "version": 3
   },
   "file_extension": ".py",
   "mimetype": "text/x-python",
   "name": "python",
   "nbconvert_exporter": "python",
   "pygments_lexer": "ipython3",
   "version": "3.9.7"
  },
  "papermill": {
   "default_parameters": {},
   "duration": 93.702851,
   "end_time": "2022-01-09T19:12:06.462651",
   "environment_variables": {},
   "exception": null,
   "input_path": "__notebook__.ipynb",
   "output_path": "__notebook__.ipynb",
   "parameters": {},
   "start_time": "2022-01-09T19:10:32.759800",
   "version": "2.3.3"
  },
  "widgets": {
   "application/vnd.jupyter.widget-state+json": {
    "state": {
     "05df63fcb5a8457b81f948312c1e52ee": {
      "model_module": "@jupyter-widgets/controls",
      "model_module_version": "1.5.0",
      "model_name": "DescriptionStyleModel",
      "state": {
       "_model_module": "@jupyter-widgets/controls",
       "_model_module_version": "1.5.0",
       "_model_name": "DescriptionStyleModel",
       "_view_count": null,
       "_view_module": "@jupyter-widgets/base",
       "_view_module_version": "1.2.0",
       "_view_name": "StyleView",
       "description_width": ""
      }
     },
     "1fded3c65d984d14ad21af96f459febd": {
      "model_module": "@jupyter-widgets/controls",
      "model_module_version": "1.5.0",
      "model_name": "FloatProgressModel",
      "state": {
       "_dom_classes": [],
       "_model_module": "@jupyter-widgets/controls",
       "_model_module_version": "1.5.0",
       "_model_name": "FloatProgressModel",
       "_view_count": null,
       "_view_module": "@jupyter-widgets/controls",
       "_view_module_version": "1.5.0",
       "_view_name": "ProgressView",
       "bar_style": "success",
       "description": "",
       "description_tooltip": null,
       "layout": "IPY_MODEL_728c0c25f5b44706b0c53d0a106ca99c",
       "max": 4,
       "min": 0,
       "orientation": "horizontal",
       "style": "IPY_MODEL_b7af6fc28c664b7ea45a1944fb5f4436",
       "value": 4
      }
     },
     "728c0c25f5b44706b0c53d0a106ca99c": {
      "model_module": "@jupyter-widgets/base",
      "model_module_version": "1.2.0",
      "model_name": "LayoutModel",
      "state": {
       "_model_module": "@jupyter-widgets/base",
       "_model_module_version": "1.2.0",
       "_model_name": "LayoutModel",
       "_view_count": null,
       "_view_module": "@jupyter-widgets/base",
       "_view_module_version": "1.2.0",
       "_view_name": "LayoutView",
       "align_content": null,
       "align_items": null,
       "align_self": null,
       "border": null,
       "bottom": null,
       "display": null,
       "flex": null,
       "flex_flow": null,
       "grid_area": null,
       "grid_auto_columns": null,
       "grid_auto_flow": null,
       "grid_auto_rows": null,
       "grid_column": null,
       "grid_gap": null,
       "grid_row": null,
       "grid_template_areas": null,
       "grid_template_columns": null,
       "grid_template_rows": null,
       "height": null,
       "justify_content": null,
       "justify_items": null,
       "left": null,
       "margin": null,
       "max_height": null,
       "max_width": null,
       "min_height": null,
       "min_width": null,
       "object_fit": null,
       "object_position": null,
       "order": null,
       "overflow": null,
       "overflow_x": null,
       "overflow_y": null,
       "padding": null,
       "right": null,
       "top": null,
       "visibility": null,
       "width": null
      }
     },
     "7729edd734fa4294a286425b25c07eea": {
      "model_module": "@jupyter-widgets/base",
      "model_module_version": "1.2.0",
      "model_name": "LayoutModel",
      "state": {
       "_model_module": "@jupyter-widgets/base",
       "_model_module_version": "1.2.0",
       "_model_name": "LayoutModel",
       "_view_count": null,
       "_view_module": "@jupyter-widgets/base",
       "_view_module_version": "1.2.0",
       "_view_name": "LayoutView",
       "align_content": null,
       "align_items": null,
       "align_self": null,
       "border": null,
       "bottom": null,
       "display": null,
       "flex": null,
       "flex_flow": null,
       "grid_area": null,
       "grid_auto_columns": null,
       "grid_auto_flow": null,
       "grid_auto_rows": null,
       "grid_column": null,
       "grid_gap": null,
       "grid_row": null,
       "grid_template_areas": null,
       "grid_template_columns": null,
       "grid_template_rows": null,
       "height": null,
       "justify_content": null,
       "justify_items": null,
       "left": null,
       "margin": null,
       "max_height": null,
       "max_width": null,
       "min_height": null,
       "min_width": null,
       "object_fit": null,
       "object_position": null,
       "order": null,
       "overflow": null,
       "overflow_x": null,
       "overflow_y": null,
       "padding": null,
       "right": null,
       "top": null,
       "visibility": null,
       "width": null
      }
     },
     "7956dd035f6b4c3d86f291e89b50b9c7": {
      "model_module": "@jupyter-widgets/controls",
      "model_module_version": "1.5.0",
      "model_name": "DescriptionStyleModel",
      "state": {
       "_model_module": "@jupyter-widgets/controls",
       "_model_module_version": "1.5.0",
       "_model_name": "DescriptionStyleModel",
       "_view_count": null,
       "_view_module": "@jupyter-widgets/base",
       "_view_module_version": "1.2.0",
       "_view_name": "StyleView",
       "description_width": ""
      }
     },
     "9596fef648984e1b976249603d436126": {
      "model_module": "@jupyter-widgets/controls",
      "model_module_version": "1.5.0",
      "model_name": "HTMLModel",
      "state": {
       "_dom_classes": [],
       "_model_module": "@jupyter-widgets/controls",
       "_model_module_version": "1.5.0",
       "_model_name": "HTMLModel",
       "_view_count": null,
       "_view_module": "@jupyter-widgets/controls",
       "_view_module_version": "1.5.0",
       "_view_name": "HTMLView",
       "description": "",
       "description_tooltip": null,
       "layout": "IPY_MODEL_bd5dc0093ade4454ae1d9296ca38e624",
       "placeholder": "​",
       "style": "IPY_MODEL_05df63fcb5a8457b81f948312c1e52ee",
       "value": "Dl Completed...: 100%"
      }
     },
     "9e2003d773204168889636343466fc22": {
      "model_module": "@jupyter-widgets/controls",
      "model_module_version": "1.5.0",
      "model_name": "HTMLModel",
      "state": {
       "_dom_classes": [],
       "_model_module": "@jupyter-widgets/controls",
       "_model_module_version": "1.5.0",
       "_model_name": "HTMLModel",
       "_view_count": null,
       "_view_module": "@jupyter-widgets/controls",
       "_view_module_version": "1.5.0",
       "_view_name": "HTMLView",
       "description": "",
       "description_tooltip": null,
       "layout": "IPY_MODEL_f525539d8a19409889949139a352793b",
       "placeholder": "​",
       "style": "IPY_MODEL_7956dd035f6b4c3d86f291e89b50b9c7",
       "value": " 4/4 [00:00&lt;00:00,  4.38 file/s]"
      }
     },
     "b7af6fc28c664b7ea45a1944fb5f4436": {
      "model_module": "@jupyter-widgets/controls",
      "model_module_version": "1.5.0",
      "model_name": "ProgressStyleModel",
      "state": {
       "_model_module": "@jupyter-widgets/controls",
       "_model_module_version": "1.5.0",
       "_model_name": "ProgressStyleModel",
       "_view_count": null,
       "_view_module": "@jupyter-widgets/base",
       "_view_module_version": "1.2.0",
       "_view_name": "StyleView",
       "bar_color": null,
       "description_width": ""
      }
     },
     "bd5dc0093ade4454ae1d9296ca38e624": {
      "model_module": "@jupyter-widgets/base",
      "model_module_version": "1.2.0",
      "model_name": "LayoutModel",
      "state": {
       "_model_module": "@jupyter-widgets/base",
       "_model_module_version": "1.2.0",
       "_model_name": "LayoutModel",
       "_view_count": null,
       "_view_module": "@jupyter-widgets/base",
       "_view_module_version": "1.2.0",
       "_view_name": "LayoutView",
       "align_content": null,
       "align_items": null,
       "align_self": null,
       "border": null,
       "bottom": null,
       "display": null,
       "flex": null,
       "flex_flow": null,
       "grid_area": null,
       "grid_auto_columns": null,
       "grid_auto_flow": null,
       "grid_auto_rows": null,
       "grid_column": null,
       "grid_gap": null,
       "grid_row": null,
       "grid_template_areas": null,
       "grid_template_columns": null,
       "grid_template_rows": null,
       "height": null,
       "justify_content": null,
       "justify_items": null,
       "left": null,
       "margin": null,
       "max_height": null,
       "max_width": null,
       "min_height": null,
       "min_width": null,
       "object_fit": null,
       "object_position": null,
       "order": null,
       "overflow": null,
       "overflow_x": null,
       "overflow_y": null,
       "padding": null,
       "right": null,
       "top": null,
       "visibility": null,
       "width": null
      }
     },
     "de3dc90457864aab8e442b6277fab698": {
      "model_module": "@jupyter-widgets/controls",
      "model_module_version": "1.5.0",
      "model_name": "HBoxModel",
      "state": {
       "_dom_classes": [],
       "_model_module": "@jupyter-widgets/controls",
       "_model_module_version": "1.5.0",
       "_model_name": "HBoxModel",
       "_view_count": null,
       "_view_module": "@jupyter-widgets/controls",
       "_view_module_version": "1.5.0",
       "_view_name": "HBoxView",
       "box_style": "",
       "children": [
        "IPY_MODEL_9596fef648984e1b976249603d436126",
        "IPY_MODEL_1fded3c65d984d14ad21af96f459febd",
        "IPY_MODEL_9e2003d773204168889636343466fc22"
       ],
       "layout": "IPY_MODEL_7729edd734fa4294a286425b25c07eea"
      }
     },
     "f525539d8a19409889949139a352793b": {
      "model_module": "@jupyter-widgets/base",
      "model_module_version": "1.2.0",
      "model_name": "LayoutModel",
      "state": {
       "_model_module": "@jupyter-widgets/base",
       "_model_module_version": "1.2.0",
       "_model_name": "LayoutModel",
       "_view_count": null,
       "_view_module": "@jupyter-widgets/base",
       "_view_module_version": "1.2.0",
       "_view_name": "LayoutView",
       "align_content": null,
       "align_items": null,
       "align_self": null,
       "border": null,
       "bottom": null,
       "display": null,
       "flex": null,
       "flex_flow": null,
       "grid_area": null,
       "grid_auto_columns": null,
       "grid_auto_flow": null,
       "grid_auto_rows": null,
       "grid_column": null,
       "grid_gap": null,
       "grid_row": null,
       "grid_template_areas": null,
       "grid_template_columns": null,
       "grid_template_rows": null,
       "height": null,
       "justify_content": null,
       "justify_items": null,
       "left": null,
       "margin": null,
       "max_height": null,
       "max_width": null,
       "min_height": null,
       "min_width": null,
       "object_fit": null,
       "object_position": null,
       "order": null,
       "overflow": null,
       "overflow_x": null,
       "overflow_y": null,
       "padding": null,
       "right": null,
       "top": null,
       "visibility": null,
       "width": null
      }
     }
    },
    "version_major": 2,
    "version_minor": 0
   }
  }
 },
 "nbformat": 4,
 "nbformat_minor": 5
}
